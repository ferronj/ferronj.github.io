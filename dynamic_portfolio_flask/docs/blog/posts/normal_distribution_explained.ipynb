{
 "cells": [
  {
   "cell_type": "markdown",
   "metadata": {},
   "source": [
    "# Understanding the Normal Distribution\n",
    "\n",
    "The Normal Distribution, also known as the Gaussian distribution or bell curve, is a continuous probability distribution that is fundamental in statistics and the natural sciences. It is characterized by its symmetric, bell-shaped curve. Many natural phenomena, such as heights, blood pressure, measurement errors, and IQ scores, tend to follow a normal distribution. Its importance also stems from the Central Limit Theorem, which states that the sum (or average) of a large number of independent and identically distributed random variables will be approximately normally distributed, regardless of the original distribution."
   ]
  },
  {
   "cell_type": "markdown",
   "metadata": {},
   "source": [
    "## Mathematical Definition\n",
    "\n",
    "The probability density function (PDF) of a normal distribution is given by:\n",
    "\n",
    "$$ f(x | \\mu, \\sigma^2) = \\frac{1}{\\sqrt{2\\pi\\sigma^2}} e^{-\\frac{(x-\\mu)^2}{2\\sigma^2}} $$\n",
    "\n",
    "Where:\n",
    "- $x$ is the variable.\n",
    "- $\\mu$ (mu) is the mean of the distribution, which determines the location of the center of the peak.\n",
    "- $\\sigma$ (sigma) is the standard deviation, which determines the spread or width of the distribution. A smaller $\\sigma$ results in a narrower peak, while a larger $\\sigma$ results in a wider peak.\n",
    "- $\\sigma^2$ is the variance."
   ]
  },
  {
   "cell_type": "markdown",
   "metadata": {},
   "source": [
    "## Key Properties\n",
    "\n",
    "The normal distribution has several key properties:\n",
    "\n",
    "1.  **Mean, Median, and Mode**: For a normal distribution, the mean, median, and mode are all equal and located at the center of the distribution ($\\mu$).\n",
    "2.  **Symmetry**: The distribution is perfectly symmetrical about its mean $\\mu$. The shape of the curve to the left of the mean is a mirror image of the shape to the right.\n",
    "3.  **The Empirical Rule (68-95-99.7 Rule)**: This rule describes the percentage of data that falls within certain standard deviations from the mean:\n",
    "    *   Approximately 68% of the data falls within one standard deviation of the mean (i.e., between $\\mu - \\sigma$ and $\\mu + \\sigma$).\n",
    "    *   Approximately 95% of the data falls within two standard deviations of the mean (i.e., between $\\mu - 2\\sigma$ and $\\mu + 2\\sigma$).\n",
    "    *   Approximately 99.7% of the data falls within three standard deviations of the mean (i.e., between $\\mu - 3\\sigma$ and $\\mu + 3\\sigma$).\n",
    "4.  **Asymptotic Tails**: The tails of the curve extend indefinitely in both directions and approach, but never touch, the horizontal axis."
   ]
  },
  {
   "cell_type": "markdown",
   "metadata": {},
   "source": [
    "## Python Examples\n",
    "\n",
    "Let's explore the normal distribution using Python libraries such as NumPy, SciPy, and Matplotlib/Seaborn."
   ]
  },
  {
   "cell_type": "code",
   "execution_count": null,
   "metadata": {},
   "outputs": [],
   "source": [
    "import numpy as np\n",
    "\n",
    "# Parameters\n",
    "mu1, sigma1 = 0, 1  # Standard normal distribution\n",
    "mu2, sigma2 = 5, 2  # Another normal distribution\n",
    "\n",
    "# Generate data\n",
    "data1 = np.random.normal(mu1, sigma1, 1000)\n",
    "data2 = np.random.normal(mu2, sigma2, 1000)\n",
    "\n",
    "print(f\"First 5 samples from data1 (mean={mu1}, std={sigma1}): {data1[:5]}\")\n",
    "print(f\"First 5 samples from data2 (mean={mu2}, std={sigma2}): {data2[:5]}\")"
   ]
  },
  {
   "cell_type": "markdown",
   "metadata": {},
   "source": [
    "### Using SciPy for PDF, CDF, and PPF\n",
    "\n",
    "SciPy's `stats.norm` module provides functions to work with the normal distribution, such as:\n",
    "- `pdf(x, loc, scale)`: Probability Density Function.\n",
    "- `cdf(x, loc, scale)`: Cumulative Distribution Function (probability that a random variable X will take a value less than or equal to x).\n",
    "- `ppf(q, loc, scale)`: Percent Point Function (inverse of CDF – gives the value x for which the CDF is q)."
   ]
  },
  {
   "cell_type": "code",
   "execution_count": null,
   "metadata": {},
   "outputs": [],
   "source": [
    "from scipy.stats import norm\n",
    "\n",
    "# Parameters\n",
    "mu, sigma = 0, 1\n",
    "\n",
    "# PDF at x=0\n",
    "pdf_at_0 = norm.pdf(0, loc=mu, scale=sigma)\n",
    "print(f\"PDF at x=0 for N({mu}, {sigma}): {pdf_at_0}\")\n",
    "\n",
    "# CDF at x=0\n",
    "cdf_at_0 = norm.cdf(0, loc=mu, scale=sigma)\n",
    "print(f\"CDF at x=0 for N({mu}, {sigma}): {cdf_at_0}\") # Should be 0.5 for a symmetric distribution centered at 0\n",
    "\n",
    "# PPF for q=0.95 (95th percentile)\n",
    "ppf_at_0_95 = norm.ppf(0.95, loc=mu, scale=sigma)\n",
    "print(f\"PPF for q=0.95 for N({mu}, {sigma}): {ppf_at_0_95}\") # Corresponds to ~1.645 standard deviations"
   ]
  },
  {
   "cell_type": "markdown",
   "metadata": {},
   "source": [
    "### Visualization with Matplotlib and Seaborn\n",
    "\n",
    "Let's visualize the PDF of a normal distribution and compare it with a histogram of randomly generated data."
   ]
  },
  {
   "cell_type": "code",
   "execution_count": null,
   "metadata": {},
   "outputs": [],
   "source": [
    "import matplotlib.pyplot as plt\n",
    "import seaborn as sns\n",
    "\n",
    "# Use a specific style for seaborn plots for better aesthetics\n",
    "sns.set_style(\"whitegrid\")\n",
    "\n",
    "# Parameters for the distribution to plot\n",
    "mu_plot, sigma_plot = 0, 1\n",
    "data_plot = np.random.normal(mu_plot, sigma_plot, 10000)\n",
    "\n",
    "# Create x values for the PDF line\n",
    "x_values = np.linspace(mu_plot - 4*sigma_plot, mu_plot + 4*sigma_plot, 200)\n",
    "pdf_values = norm.pdf(x_values, loc=mu_plot, scale=sigma_plot)\n",
    "\n",
    "plt.figure(figsize=(10, 6))\n",
    "\n",
    "# Plot histogram of generated data\n",
    "sns.histplot(data_plot, bins=30, kde=False, stat=\"density\", label=\"Histogram of Generated Data\")\n",
    "\n",
    "# Plot the PDF line\n",
    "plt.plot(x_values, pdf_values, color='red', linewidth=2, label=\"Normal PDF\")\n",
    "\n",
    "plt.title(f\"Normal Distribution ($\\mu={mu_plot}, \\sigma={sigma_plot}$)\")\n",
    "plt.xlabel(\"Value\")\n",
    "plt.ylabel(\"Density\")\n",
    "plt.legend()\n",
    "plt.show()"
   ]
  },
  {
   "cell_type": "markdown",
   "metadata": {},
   "source": [
    "## Conclusion\n",
    "\n",
    "The normal distribution is a cornerstone of statistical theory and practice. Its predictable bell shape and well-understood properties, such as the empirical rule, make it an invaluable tool for modeling and analyzing data across various fields. Python's scientific libraries like NumPy, SciPy, and Matplotlib provide powerful capabilities for working with and visualizing normally distributed data."
   ]
  }
 ],
 "metadata": {
  "kernelspec": {
   "display_name": "Python 3",
   "language": "python",
   "name": "python3"
  },
  "language_info": {
   "codemirror_mode": {
    "name": "ipython",
    "version": 3
   },
   "file_extension": ".py",
   "mimetype": "text/x-python",
   "name": "python",
   "nbconvert_exporter": "python",
   "pygments_lexer": "ipython3",
   "version": "3.10.12"  # Example version
  }
 },
 "nbformat": 4,
 "nbformat_minor": 5
}
